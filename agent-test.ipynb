{
 "cells": [
  {
   "cell_type": "code",
   "execution_count": 1,
   "metadata": {},
   "outputs": [],
   "source": [
    "%matplotlib inline\n",
    "import matplotlib.pyplot as plt\n",
    "import numpy as np\n",
    "\n",
    "from eugene import simulate_outbreak_structured"
   ]
  },
  {
   "cell_type": "code",
   "execution_count": 26,
   "metadata": {},
   "outputs": [],
   "source": [
    "population = int(1e3)\n",
    "people_per_household = 2.2\n",
    "n = 1\n",
    "f_home = 0.00\n",
    "R0 = 1.5\n",
    "k = np.exp(1)\n",
    "days_elapsed_max = 365\n",
    "max_cases = population\n",
    "max_community_spread = 10000\n",
    "D = 7\n",
    "gamma_shape = 2\n",
    "max_time = 1000\n",
    "\n",
    "final_sizes = []\n",
    "\n",
    "for i in range(int(1e5)):\n",
    "    t, c, times, pop = simulate_outbreak_structured(R0, k, n, D, gamma_shape, max_time, \n",
    "                                                      days_elapsed_max, max_cases, f_home, \n",
    "                                                      people_per_household, \n",
    "                                                      max_community_spread, population)\n",
    "    final_sizes.append(np.count_nonzero(pop) / len(pop))"
   ]
  },
  {
   "cell_type": "code",
   "execution_count": 27,
   "metadata": {},
   "outputs": [
    {
     "data": {
      "image/png": "[encoded data removed]",
      "text/plain": [
       "<Figure size 432x288 with 1 Axes>"
      ]
     },
     "metadata": {
      "needs_background": "light"
     },
     "output_type": "display_data"
    }
   ],
   "source": [
    "plt.hist(np.array(final_sizes) * population, bins=50, density=True);\n",
    "plt.xlabel('Final Size')\n",
    "plt.ylabel('Frequency')\n",
    "plt.savefig('plots/finalsize.pdf', bbox_inches='tight')"
   ]
  },
  {
   "cell_type": "code",
   "execution_count": 28,
   "metadata": {},
   "outputs": [
    {
     "data": {
      "text/plain": [
       "0.70936"
      ]
     },
     "execution_count": 28,
     "metadata": {},
     "output_type": "execute_result"
    }
   ],
   "source": [
    "np.count_nonzero(np.array(final_sizes) * population < 200) / len(final_sizes)"
   ]
  },
  {
   "cell_type": "code",
   "execution_count": null,
   "metadata": {},
   "outputs": [],
   "source": []
  }
 ],
 "metadata": {
  "kernelspec": {
   "display_name": "Python 3",
   "language": "python",
   "name": "python3"
  },
  "language_info": {
   "codemirror_mode": {
    "name": "ipython",
    "version": 3
   },
   "file_extension": ".py",
   "mimetype": "text/x-python",
   "name": "python",
   "nbconvert_exporter": "python",
   "pygments_lexer": "ipython3",
   "version": "3.7.6"
  }
 },
 "nbformat": 4,
 "nbformat_minor": 4
}
